{
 "cells": [
  {
   "cell_type": "code",
   "execution_count": 1,
   "metadata": {},
   "outputs": [],
   "source": [
    "import numpy as np\n",
    "import pandas as pd\n",
    "\n",
    "\n",
    "from sqlalchemy import create_engine, inspect\n",
    "from sqlalchemy import Column, Integer, String, Float\n",
    "from sqlalchemy.ext.declarative import declarative_base\n",
    "Base = declarative_base()"
   ]
  },
  {
   "cell_type": "code",
   "execution_count": 2,
   "metadata": {},
   "outputs": [
    {
     "data": {
      "text/html": [
       "<div>\n",
       "<style scoped>\n",
       "    .dataframe tbody tr th:only-of-type {\n",
       "        vertical-align: middle;\n",
       "    }\n",
       "\n",
       "    .dataframe tbody tr th {\n",
       "        vertical-align: top;\n",
       "    }\n",
       "\n",
       "    .dataframe thead th {\n",
       "        text-align: right;\n",
       "    }\n",
       "</style>\n",
       "<table border=\"1\" class=\"dataframe\">\n",
       "  <thead>\n",
       "    <tr style=\"text-align: right;\">\n",
       "      <th></th>\n",
       "      <th>track_duration(ms)</th>\n",
       "      <th>track_number</th>\n",
       "      <th>track_title</th>\n",
       "      <th>album_title</th>\n",
       "      <th>release_date</th>\n",
       "    </tr>\n",
       "  </thead>\n",
       "  <tbody>\n",
       "    <tr>\n",
       "      <th>0</th>\n",
       "      <td>91080</td>\n",
       "      <td>1</td>\n",
       "      <td>Wu-Tang The Saga Continues Intro (feat. RZA)</td>\n",
       "      <td>The Saga Continues</td>\n",
       "      <td>10/13/2017</td>\n",
       "    </tr>\n",
       "    <tr>\n",
       "      <th>1</th>\n",
       "      <td>202666</td>\n",
       "      <td>2</td>\n",
       "      <td>Lesson Learn'd (feat. Inspectah Deck and Redman)</td>\n",
       "      <td>The Saga Continues</td>\n",
       "      <td>10/13/2017</td>\n",
       "    </tr>\n",
       "    <tr>\n",
       "      <th>2</th>\n",
       "      <td>222310</td>\n",
       "      <td>3</td>\n",
       "      <td>Fast and Furious (feat. Hue Hef and Raekwon)</td>\n",
       "      <td>The Saga Continues</td>\n",
       "      <td>10/13/2017</td>\n",
       "    </tr>\n",
       "    <tr>\n",
       "      <th>3</th>\n",
       "      <td>80606</td>\n",
       "      <td>4</td>\n",
       "      <td>Famous Fighters (Skit)</td>\n",
       "      <td>The Saga Continues</td>\n",
       "      <td>10/13/2017</td>\n",
       "    </tr>\n",
       "    <tr>\n",
       "      <th>4</th>\n",
       "      <td>233846</td>\n",
       "      <td>5</td>\n",
       "      <td>If Time Is Money (Fly Navigation) [feat. Metho...</td>\n",
       "      <td>The Saga Continues</td>\n",
       "      <td>10/13/2017</td>\n",
       "    </tr>\n",
       "  </tbody>\n",
       "</table>\n",
       "</div>"
      ],
      "text/plain": [
       "   track_duration(ms)  track_number  \\\n",
       "0               91080             1   \n",
       "1              202666             2   \n",
       "2              222310             3   \n",
       "3               80606             4   \n",
       "4              233846             5   \n",
       "\n",
       "                                         track_title         album_title  \\\n",
       "0       Wu-Tang The Saga Continues Intro (feat. RZA)  The Saga Continues   \n",
       "1   Lesson Learn'd (feat. Inspectah Deck and Redman)  The Saga Continues   \n",
       "2       Fast and Furious (feat. Hue Hef and Raekwon)  The Saga Continues   \n",
       "3                             Famous Fighters (Skit)  The Saga Continues   \n",
       "4  If Time Is Money (Fly Navigation) [feat. Metho...  The Saga Continues   \n",
       "\n",
       "  release_date  \n",
       "0   10/13/2017  \n",
       "1   10/13/2017  \n",
       "2   10/13/2017  \n",
       "3   10/13/2017  \n",
       "4   10/13/2017  "
      ]
     },
     "execution_count": 2,
     "metadata": {},
     "output_type": "execute_result"
    }
   ],
   "source": [
    "wu_tang_clan_info = pd.read_csv('wu_tang_clan_updated.csv')[['track_duration(ms)', 'track_number', 'track_title', 'album_title', 'release_date'\n",
    "]]\n",
    "wu_tang_clan_info.head()"
   ]
  },
  {
   "cell_type": "code",
   "execution_count": 3,
   "metadata": {},
   "outputs": [
    {
     "data": {
      "text/html": [
       "<div>\n",
       "<style scoped>\n",
       "    .dataframe tbody tr th:only-of-type {\n",
       "        vertical-align: middle;\n",
       "    }\n",
       "\n",
       "    .dataframe tbody tr th {\n",
       "        vertical-align: top;\n",
       "    }\n",
       "\n",
       "    .dataframe thead th {\n",
       "        text-align: right;\n",
       "    }\n",
       "</style>\n",
       "<table border=\"1\" class=\"dataframe\">\n",
       "  <thead>\n",
       "    <tr style=\"text-align: right;\">\n",
       "      <th></th>\n",
       "      <th>album_name</th>\n",
       "      <th>units_sold</th>\n",
       "    </tr>\n",
       "  </thead>\n",
       "  <tbody>\n",
       "    <tr>\n",
       "      <th>0</th>\n",
       "      <td>Enter the Wu-Tang (1993)</td>\n",
       "      <td>2400000</td>\n",
       "    </tr>\n",
       "    <tr>\n",
       "      <th>1</th>\n",
       "      <td>Wu-Tang Forever (1997)</td>\n",
       "      <td>2100000</td>\n",
       "    </tr>\n",
       "    <tr>\n",
       "      <th>2</th>\n",
       "      <td>W (2000)</td>\n",
       "      <td>1100000</td>\n",
       "    </tr>\n",
       "    <tr>\n",
       "      <th>3</th>\n",
       "      <td>Iron Flag (2001)</td>\n",
       "      <td>475000</td>\n",
       "    </tr>\n",
       "    <tr>\n",
       "      <th>4</th>\n",
       "      <td>Legends of the Wu-Tang (2004)</td>\n",
       "      <td>278000</td>\n",
       "    </tr>\n",
       "    <tr>\n",
       "      <th>5</th>\n",
       "      <td>8 Diagrams (2007)</td>\n",
       "      <td>203000</td>\n",
       "    </tr>\n",
       "    <tr>\n",
       "      <th>6</th>\n",
       "      <td>Disciples of the 36 Chambers (2004)</td>\n",
       "      <td>128000</td>\n",
       "    </tr>\n",
       "    <tr>\n",
       "      <th>7</th>\n",
       "      <td>Better Tomorrow (2014)</td>\n",
       "      <td>60000</td>\n",
       "    </tr>\n",
       "    <tr>\n",
       "      <th>8</th>\n",
       "      <td>Once Upon a Time in Shaolin (2015)</td>\n",
       "      <td>1</td>\n",
       "    </tr>\n",
       "  </tbody>\n",
       "</table>\n",
       "</div>"
      ],
      "text/plain": [
       "                            album_name  units_sold\n",
       "0             Enter the Wu-Tang (1993)     2400000\n",
       "1               Wu-Tang Forever (1997)     2100000\n",
       "2                             W (2000)     1100000\n",
       "3                     Iron Flag (2001)      475000\n",
       "4        Legends of the Wu-Tang (2004)      278000\n",
       "5                    8 Diagrams (2007)      203000\n",
       "6  Disciples of the 36 Chambers (2004)      128000\n",
       "7               Better Tomorrow (2014)       60000\n",
       "8   Once Upon a Time in Shaolin (2015)           1"
      ]
     },
     "execution_count": 3,
     "metadata": {},
     "output_type": "execute_result"
    }
   ],
   "source": [
    "us_sales = pd.read_csv('us_sales_2015.csv')\n",
    "us_sales = us_sales[['album_name', 'units_sold']]\n",
    "us_sales"
   ]
  },
  {
   "cell_type": "code",
   "execution_count": 4,
   "metadata": {},
   "outputs": [
    {
     "data": {
      "text/html": [
       "<div>\n",
       "<style scoped>\n",
       "    .dataframe tbody tr th:only-of-type {\n",
       "        vertical-align: middle;\n",
       "    }\n",
       "\n",
       "    .dataframe tbody tr th {\n",
       "        vertical-align: top;\n",
       "    }\n",
       "\n",
       "    .dataframe thead th {\n",
       "        text-align: right;\n",
       "    }\n",
       "</style>\n",
       "<table border=\"1\" class=\"dataframe\">\n",
       "  <thead>\n",
       "    <tr style=\"text-align: right;\">\n",
       "      <th></th>\n",
       "      <th>member</th>\n",
       "      <th>albums</th>\n",
       "      <th>image_path</th>\n",
       "    </tr>\n",
       "  </thead>\n",
       "  <tbody>\n",
       "    <tr>\n",
       "      <th>0</th>\n",
       "      <td>Ghostface Killa</td>\n",
       "      <td>12</td>\n",
       "      <td>C:\\Users\\moks\\Desktop\\images\\ghostface.jpeg</td>\n",
       "    </tr>\n",
       "    <tr>\n",
       "      <th>1</th>\n",
       "      <td>RZA</td>\n",
       "      <td>4</td>\n",
       "      <td>C:\\Users\\moks\\Desktop\\images\\rza.jpeg</td>\n",
       "    </tr>\n",
       "    <tr>\n",
       "      <th>2</th>\n",
       "      <td>GZA</td>\n",
       "      <td>5</td>\n",
       "      <td>C:\\Users\\moks\\Desktop\\images\\GZA.jpeg</td>\n",
       "    </tr>\n",
       "    <tr>\n",
       "      <th>3</th>\n",
       "      <td>ODB</td>\n",
       "      <td>2</td>\n",
       "      <td>C:\\Users\\moks\\Desktop\\images\\ODB.jpeg</td>\n",
       "    </tr>\n",
       "    <tr>\n",
       "      <th>4</th>\n",
       "      <td>Method Man</td>\n",
       "      <td>5</td>\n",
       "      <td>C:\\Users\\moks\\Desktop\\images\\method.jpeg</td>\n",
       "    </tr>\n",
       "    <tr>\n",
       "      <th>5</th>\n",
       "      <td>Raekwon</td>\n",
       "      <td>7</td>\n",
       "      <td>C:\\Users\\moks\\Desktop\\images\\raekwon.jpeg</td>\n",
       "    </tr>\n",
       "    <tr>\n",
       "      <th>6</th>\n",
       "      <td>Inspectah Deck</td>\n",
       "      <td>4</td>\n",
       "      <td>C:\\Users\\moks\\Desktop\\images\\inspectah.jpeg</td>\n",
       "    </tr>\n",
       "    <tr>\n",
       "      <th>7</th>\n",
       "      <td>U-God</td>\n",
       "      <td>5</td>\n",
       "      <td>C:\\Users\\moks\\Desktop\\images\\ugod.jpeg</td>\n",
       "    </tr>\n",
       "    <tr>\n",
       "      <th>8</th>\n",
       "      <td>Masta Killa</td>\n",
       "      <td>4</td>\n",
       "      <td>C:\\Users\\moks\\Desktop\\images\\masta.jpeg</td>\n",
       "    </tr>\n",
       "    <tr>\n",
       "      <th>9</th>\n",
       "      <td>Cappadonna</td>\n",
       "      <td>9</td>\n",
       "      <td>C:\\Users\\moks\\Desktop\\images\\cappadonna.png</td>\n",
       "    </tr>\n",
       "  </tbody>\n",
       "</table>\n",
       "</div>"
      ],
      "text/plain": [
       "            member  albums                                   image_path\n",
       "0  Ghostface Killa      12  C:\\Users\\moks\\Desktop\\images\\ghostface.jpeg\n",
       "1              RZA       4        C:\\Users\\moks\\Desktop\\images\\rza.jpeg\n",
       "2              GZA       5        C:\\Users\\moks\\Desktop\\images\\GZA.jpeg\n",
       "3              ODB       2        C:\\Users\\moks\\Desktop\\images\\ODB.jpeg\n",
       "4       Method Man       5     C:\\Users\\moks\\Desktop\\images\\method.jpeg\n",
       "5          Raekwon       7    C:\\Users\\moks\\Desktop\\images\\raekwon.jpeg\n",
       "6   Inspectah Deck       4  C:\\Users\\moks\\Desktop\\images\\inspectah.jpeg\n",
       "7            U-God       5       C:\\Users\\moks\\Desktop\\images\\ugod.jpeg\n",
       "8      Masta Killa       4      C:\\Users\\moks\\Desktop\\images\\masta.jpeg\n",
       "9       Cappadonna       9  C:\\Users\\moks\\Desktop\\images\\cappadonna.png"
      ]
     },
     "execution_count": 4,
     "metadata": {},
     "output_type": "execute_result"
    }
   ],
   "source": [
    "wu_foundation = pd.read_csv('wu_foundation.csv')\n",
    "wu_foundation = wu_foundation[['member','albums','image_path']]\n",
    "wu_foundation"
   ]
  },
  {
   "cell_type": "code",
   "execution_count": 5,
   "metadata": {},
   "outputs": [
    {
     "data": {
      "text/html": [
       "<div>\n",
       "<style scoped>\n",
       "    .dataframe tbody tr th:only-of-type {\n",
       "        vertical-align: middle;\n",
       "    }\n",
       "\n",
       "    .dataframe tbody tr th {\n",
       "        vertical-align: top;\n",
       "    }\n",
       "\n",
       "    .dataframe thead th {\n",
       "        text-align: right;\n",
       "    }\n",
       "</style>\n",
       "<table border=\"1\" class=\"dataframe\">\n",
       "  <thead>\n",
       "    <tr style=\"text-align: right;\">\n",
       "      <th></th>\n",
       "      <th>album_title</th>\n",
       "      <th>artists</th>\n",
       "      <th>date</th>\n",
       "    </tr>\n",
       "  </thead>\n",
       "  <tbody>\n",
       "    <tr>\n",
       "      <th>0</th>\n",
       "      <td>Enter the Wu-Tang (36 Chambers)</td>\n",
       "      <td>Inspectah Deck</td>\n",
       "      <td>11/9/1993</td>\n",
       "    </tr>\n",
       "    <tr>\n",
       "      <th>1</th>\n",
       "      <td>Enter the Wu-Tang (36 Chambers)</td>\n",
       "      <td>Ghostface Killah</td>\n",
       "      <td>11/9/1993</td>\n",
       "    </tr>\n",
       "    <tr>\n",
       "      <th>2</th>\n",
       "      <td>Enter the Wu-Tang (36 Chambers)</td>\n",
       "      <td>GZA</td>\n",
       "      <td>11/9/1993</td>\n",
       "    </tr>\n",
       "    <tr>\n",
       "      <th>3</th>\n",
       "      <td>Enter the Wu-Tang (36 Chambers)</td>\n",
       "      <td>Masta Killa</td>\n",
       "      <td>11/9/1993</td>\n",
       "    </tr>\n",
       "    <tr>\n",
       "      <th>4</th>\n",
       "      <td>Enter the Wu-Tang (36 Chambers)</td>\n",
       "      <td>Method Man</td>\n",
       "      <td>11/9/1993</td>\n",
       "    </tr>\n",
       "  </tbody>\n",
       "</table>\n",
       "</div>"
      ],
      "text/plain": [
       "                       album_title           artists       date\n",
       "0  Enter the Wu-Tang (36 Chambers)    Inspectah Deck  11/9/1993\n",
       "1  Enter the Wu-Tang (36 Chambers)  Ghostface Killah  11/9/1993\n",
       "2  Enter the Wu-Tang (36 Chambers)               GZA  11/9/1993\n",
       "3  Enter the Wu-Tang (36 Chambers)       Masta Killa  11/9/1993\n",
       "4  Enter the Wu-Tang (36 Chambers)        Method Man  11/9/1993"
      ]
     },
     "execution_count": 5,
     "metadata": {},
     "output_type": "execute_result"
    }
   ],
   "source": [
    "wu_artists = pd.read_csv('wu_tang_clan_artists.csv')\n",
    "wu_artists = wu_artists[['album_title','artists','date']]\n",
    "wu_artists.head()"
   ]
  },
  {
   "cell_type": "code",
   "execution_count": 6,
   "metadata": {},
   "outputs": [],
   "source": [
    "engine = create_engine('sqlite:///wutang.sqlite')\n",
    "connect = engine.connect()"
   ]
  },
  {
   "cell_type": "code",
   "execution_count": 7,
   "metadata": {},
   "outputs": [],
   "source": [
    "class Info(Base):\n",
    "    __tablename__ = 'info'\n",
    "    id = Column(Integer, primary_key=True)\n",
    "    track_duration = Column(Float)\n",
    "    track_number = Column(Float)\n",
    "    track_title = Column(String(255))\n",
    "    album_title = Column(String(255))\n",
    "    release_date = Column(String(255))"
   ]
  },
  {
   "cell_type": "code",
   "execution_count": 8,
   "metadata": {},
   "outputs": [],
   "source": [
    "class Sales(Base):\n",
    "    __tablename__ = 'sales'\n",
    "    id = Column(Integer, primary_key=True)\n",
    "    name = Column(String(255))\n",
    "    units = Column(Float)"
   ]
  },
  {
   "cell_type": "code",
   "execution_count": 9,
   "metadata": {},
   "outputs": [],
   "source": [
    "class Foundation(Base):\n",
    "    __tablename__ = 'foundation'\n",
    "    id = Column(Integer, primary_key=True)\n",
    "    member = Column(String(255))\n",
    "    albums = Column(Float)\n",
    "    image_path = Column(String(255))"
   ]
  },
  {
   "cell_type": "code",
   "execution_count": 10,
   "metadata": {},
   "outputs": [],
   "source": [
    "class Artists(Base):\n",
    "    __tablename__ = 'artists'\n",
    "    id = Column(Integer, primary_key=True)\n",
    "    album_title = Column(String(255))\n",
    "    artists = Column(String(255))\n",
    "    date = Column(String(255))"
   ]
  },
  {
   "cell_type": "code",
   "execution_count": 11,
   "metadata": {},
   "outputs": [],
   "source": [
    "Base.metadata.create_all(connect)"
   ]
  },
  {
   "cell_type": "code",
   "execution_count": 12,
   "metadata": {},
   "outputs": [],
   "source": [
    "from sqlalchemy.orm import Session\n",
    "session = Session(bind=engine)"
   ]
  },
  {
   "cell_type": "code",
   "execution_count": 13,
   "metadata": {},
   "outputs": [],
   "source": [
    "wutanginfo_duration = [wu_tang_clan_info['track_duration(ms)'][row] for row in range(wu_tang_clan_info.shape[0])]\n",
    "wutanginfo_tracknum = [wu_tang_clan_info['track_number'][row] for row in range(wu_tang_clan_info.shape[0])]\n",
    "wutanginfo_tracktitle = [wu_tang_clan_info['track_title'][row] for row in range(wu_tang_clan_info.shape[0])]\n",
    "wutanginfo_albumtitle = [wu_tang_clan_info['album_title'][row] for row in range(wu_tang_clan_info.shape[0])]\n",
    "wutanginfo_releasedate = [wu_tang_clan_info['release_date'][row] for row in range(wu_tang_clan_info.shape[0])]"
   ]
  },
  {
   "cell_type": "code",
   "execution_count": 14,
   "metadata": {},
   "outputs": [],
   "source": [
    "for x in range(len(wu_tang_clan_info)):\n",
    "    info = Info(track_duration=wutanginfo_duration[x], track_number=wutanginfo_tracknum[x], track_title=wutanginfo_tracktitle[x], album_title=wutanginfo_albumtitle[x], release_date=wutanginfo_releasedate[x])\n",
    "    session.add(info)\n",
    "    session.commit()"
   ]
  },
  {
   "cell_type": "code",
   "execution_count": 15,
   "metadata": {},
   "outputs": [],
   "source": [
    "us_sales_name = [us_sales['album_name'][row] for row in range(us_sales.shape[0])]\n",
    "us_sales_sold = [us_sales['units_sold'][row] for row in range(us_sales.shape[0])]"
   ]
  },
  {
   "cell_type": "code",
   "execution_count": 16,
   "metadata": {},
   "outputs": [],
   "source": [
    "for y in range(len(us_sales)):\n",
    "    sales = Sales(name=us_sales_name[y], units=us_sales_sold[y])\n",
    "    session.add(sales)\n",
    "    session.commit()"
   ]
  },
  {
   "cell_type": "code",
   "execution_count": 17,
   "metadata": {},
   "outputs": [],
   "source": [
    "wufoundation_member = [wu_foundation['member'][row] for row in range(wu_foundation.shape[0])]\n",
    "wufoundation_albums = [wu_foundation['albums'][row] for row in range(wu_foundation.shape[0])]\n",
    "wufoundation_image = [wu_foundation['image_path'][row] for row in range(wu_foundation.shape[0])]"
   ]
  },
  {
   "cell_type": "code",
   "execution_count": 18,
   "metadata": {},
   "outputs": [],
   "source": [
    "for z in range(len(wu_foundation)):\n",
    "    foundation = Foundation(member=wufoundation_member[z], albums=wufoundation_albums[z], image_path=wufoundation_image[z])\n",
    "    session.add(foundation)\n",
    "    session.commit()"
   ]
  },
  {
   "cell_type": "code",
   "execution_count": 19,
   "metadata": {},
   "outputs": [],
   "source": [
    "wuartists_album = [wu_artists['album_title'][row] for row in range(wu_artists.shape[0])]\n",
    "wuartists_artists = [wu_artists['artists'][row] for row in range(wu_artists.shape[0])]\n",
    "wuartists_date = [wu_artists['date'][row] for row in range(wu_artists.shape[0])]"
   ]
  },
  {
   "cell_type": "code",
   "execution_count": 20,
   "metadata": {},
   "outputs": [],
   "source": [
    "for w in range(len(wu_artists)):\n",
    "    artists = Artists(album_title=wuartists_album[w], artists=wuartists_artists[w], date=wuartists_date[w])\n",
    "    session.add(artists)\n",
    "    session.commit()"
   ]
  }
 ],
 "metadata": {
  "kernelspec": {
   "display_name": "Python 3",
   "language": "python",
   "name": "python3"
  },
  "language_info": {
   "codemirror_mode": {
    "name": "ipython",
    "version": 3
   },
   "file_extension": ".py",
   "mimetype": "text/x-python",
   "name": "python",
   "nbconvert_exporter": "python",
   "pygments_lexer": "ipython3",
   "version": "3.6.4"
  }
 },
 "nbformat": 4,
 "nbformat_minor": 2
}
