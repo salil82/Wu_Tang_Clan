{
 "cells": [
  {
   "cell_type": "code",
   "execution_count": 22,
   "metadata": {},
   "outputs": [
    {
     "data": {
      "text/html": [
       "<div>\n",
       "<style scoped>\n",
       "    .dataframe tbody tr th:only-of-type {\n",
       "        vertical-align: middle;\n",
       "    }\n",
       "\n",
       "    .dataframe tbody tr th {\n",
       "        vertical-align: top;\n",
       "    }\n",
       "\n",
       "    .dataframe thead th {\n",
       "        text-align: right;\n",
       "    }\n",
       "</style>\n",
       "<table border=\"1\" class=\"dataframe\">\n",
       "  <thead>\n",
       "    <tr style=\"text-align: right;\">\n",
       "      <th></th>\n",
       "      <th>x</th>\n",
       "      <th>track_duration(ms)</th>\n",
       "      <th>track_number</th>\n",
       "      <th>track_title</th>\n",
       "      <th>album_title</th>\n",
       "      <th>release_date</th>\n",
       "    </tr>\n",
       "  </thead>\n",
       "  <tbody>\n",
       "    <tr>\n",
       "      <th>0</th>\n",
       "      <td>0</td>\n",
       "      <td>91080</td>\n",
       "      <td>1</td>\n",
       "      <td>Wu-Tang The Saga Continues Intro (feat. RZA)</td>\n",
       "      <td>The Saga Continues</td>\n",
       "      <td>10/13/17</td>\n",
       "    </tr>\n",
       "    <tr>\n",
       "      <th>1</th>\n",
       "      <td>1</td>\n",
       "      <td>202666</td>\n",
       "      <td>2</td>\n",
       "      <td>Lesson Learn'd (feat. Inspectah Deck and Redman)</td>\n",
       "      <td>The Saga Continues</td>\n",
       "      <td>10/13/17</td>\n",
       "    </tr>\n",
       "    <tr>\n",
       "      <th>2</th>\n",
       "      <td>2</td>\n",
       "      <td>222310</td>\n",
       "      <td>3</td>\n",
       "      <td>Fast and Furious (feat. Hue Hef and Raekwon)</td>\n",
       "      <td>The Saga Continues</td>\n",
       "      <td>10/13/17</td>\n",
       "    </tr>\n",
       "  </tbody>\n",
       "</table>\n",
       "</div>"
      ],
      "text/plain": [
       "   x  track_duration(ms)  track_number  \\\n",
       "0  0               91080             1   \n",
       "1  1              202666             2   \n",
       "2  2              222310             3   \n",
       "\n",
       "                                        track_title         album_title  \\\n",
       "0      Wu-Tang The Saga Continues Intro (feat. RZA)  The Saga Continues   \n",
       "1  Lesson Learn'd (feat. Inspectah Deck and Redman)  The Saga Continues   \n",
       "2      Fast and Furious (feat. Hue Hef and Raekwon)  The Saga Continues   \n",
       "\n",
       "  release_date  \n",
       "0     10/13/17  \n",
       "1     10/13/17  \n",
       "2     10/13/17  "
      ]
     },
     "execution_count": 22,
     "metadata": {},
     "output_type": "execute_result"
    }
   ],
   "source": [
    "import pandas as pd\n",
    "import lyrics as l\n",
    "\n",
    "df = pd.read_csv('wu_tang_clan_updated.csv', encoding='latin-1')\n",
    "df.head(3)"
   ]
  },
  {
   "cell_type": "code",
   "execution_count": 6,
   "metadata": {},
   "outputs": [
    {
     "name": "stdout",
     "output_type": "stream",
     "text": [
      "The Saga Continues\n",
      "A Better Tomorrow\n",
      "8 Diagrams\n",
      "Wu-Tang Iron Flag\n",
      "The W\n",
      "Wu-Tang Forever (Explicit)\n",
      "Enter The Wu-Tang (36 Chambers) [Expanded Edition]\n"
     ]
    }
   ],
   "source": [
    "# Dictionary of {album: songList}\n",
    "\n",
    "album_list = df['album_title'].unique()\n",
    "\n",
    "album_dict = {}\n",
    "for album in album_list:\n",
    "    album_dict[album] = list(df[df['album_title'] == 'The Saga Continues']['track_title'])\n",
    "    print(album)"
   ]
  },
  {
   "cell_type": "code",
   "execution_count": 7,
   "metadata": {},
   "outputs": [],
   "source": []
  },
  {
   "cell_type": "code",
   "execution_count": 10,
   "metadata": {},
   "outputs": [],
   "source": [
    "# List of lyrics\n",
    "lyrics = []\n",
    "for song in songNames:\n",
    "    lyrics.append(l.get_lyrics(song))"
   ]
  },
  {
   "cell_type": "code",
   "execution_count": 21,
   "metadata": {},
   "outputs": [],
   "source": [
    "# Example final dict\n",
    "# Dict is PER SONG\n",
    "# Bar graph PER ALBUM with song on x-axis\n",
    "data = [{\n",
    "    'album': 1,\n",
    "    'song': 2,\n",
    "    'artists': 3,\n",
    "    'wordcount': 4,\n",
    "    'trackduration': 5\n",
    "},\n",
    "    {\n",
    "    'album': 1,\n",
    "    'song': 2,\n",
    "    'words': 3,\n",
    "    'artists': 4\n",
    "}]"
   ]
  },
  {
   "cell_type": "code",
   "execution_count": null,
   "metadata": {},
   "outputs": [],
   "source": []
  }
 ],
 "metadata": {
  "kernelspec": {
   "display_name": "Python 3",
   "language": "python",
   "name": "python3"
  },
  "language_info": {
   "codemirror_mode": {
    "name": "ipython",
    "version": 3
   },
   "file_extension": ".py",
   "mimetype": "text/x-python",
   "name": "python",
   "nbconvert_exporter": "python",
   "pygments_lexer": "ipython3",
   "version": "3.6.4"
  }
 },
 "nbformat": 4,
 "nbformat_minor": 2
}
