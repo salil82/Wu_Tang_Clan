{
 "cells": [
  {
   "cell_type": "code",
   "execution_count": 1,
   "metadata": {},
   "outputs": [],
   "source": [
    "# Dependencies\n",
    "import lyricsgenius as lg\n",
    "import genius_api\n",
    "\n",
    "customer_id = genius_api.api['customer_id']\n",
    "secret_client = genius_api.api['secret_client']\n",
    "access_token = genius_api.api['access_token']\n",
    "\n",
    "api = lg.Genius(access_token)"
   ]
  },
  {
   "cell_type": "code",
   "execution_count": 2,
   "metadata": {},
   "outputs": [
    {
     "name": "stdout",
     "output_type": "stream",
     "text": [
      "Searching for \"Bring da Ruckus\" by Wu-Tang Clan...\n",
      "Done.\n",
      "Searching for \"Shame on a Nigga\" by Wu-Tang Clan...\n",
      "Done.\n",
      "Searching for \"Clan in da Front\" by Wu-Tang Clan...\n",
      "Done.\n",
      "Searching for \"Wu-Tang: 7th Chamber\" by Wu-Tang Clan...\n",
      "Done.\n"
     ]
    }
   ],
   "source": [
    "# Read in song data\n",
    "songNames = ['Bring da Ruckus', 'Shame on a Nigga', 'Clan in da Front', 'Wu-Tang: 7th Chamber']\n",
    "songList = [api.search_song(i,'Wu-Tang Clan') for i in songNames]"
   ]
  },
  {
   "cell_type": "code",
   "execution_count": 3,
   "metadata": {},
   "outputs": [],
   "source": [
    "# Raw song lyrics as str\n",
    "Bring = songList[0].lyrics\n",
    "Shame = songList[1].lyrics"
   ]
  },
  {
   "cell_type": "code",
   "execution_count": 4,
   "metadata": {},
   "outputs": [],
   "source": [
    "# Split by line\n",
    "a = Bring.split(\"\\n\")\n",
    "b = Shame.split(\"\\n\")"
   ]
  },
  {
   "cell_type": "code",
   "execution_count": 5,
   "metadata": {},
   "outputs": [
    {
     "data": {
      "text/plain": [
       "['[Produced by RZA]',\n",
       " '',\n",
       " \"[Hook: Ol' Dirty Bastard]\",\n",
       " 'Shame on a nigga who try to run game on a nigga',\n",
       " 'Wu buck wild with the trigger',\n",
       " 'Shame on a nigga who try to run game on a nigga',\n",
       " \"Wu buck… I'll fuck your ass up!\",\n",
       " '',\n",
       " \"[Verse 1: Ol' Dirty Bastard & Raekwon]\",\n",
       " 'Yo, hut one, hut two, hut three, hut!',\n",
       " \"Ol' Dirty Bastard, live and uncut\",\n",
       " 'Styles unbreakable, shatterproof',\n",
       " 'To the young youth, you wanna get gun? Shoot!',\n",
       " 'Blaow! How you like me now?',\n",
       " \"Don't fuck the style, ruthless wild\",\n",
       " 'Do you wanna get your teeth knocked the fuck out?',\n",
       " 'Wanna get on it like that? Well, then shout!',\n",
       " '',\n",
       " '[Verse 2: Method Man]',\n",
       " 'Yo RZA, yo razor, hit me with the major',\n",
       " 'The damage, my Clan understand it be flavor',\n",
       " \"Gunnin', hummin', comin' at ya\",\n",
       " \"First I'm gonna get ya, once I got ya, I gat ya\",\n",
       " \"You could never capture the Method Man's stature\",\n",
       " \"For rhyme and for rapture, got niggas resignin', now master\",\n",
       " 'My style? Never!',\n",
       " \"I put the fuckin' buck in the wild kid, I'm terror, razor sharp, I sever\",\n",
       " \"The head from the shoulders, I'm better than my competta\",\n",
       " \"You mean competitor, whatever, let's get together\",\n",
       " '',\n",
       " '[Hook: Dirty Bastard]',\n",
       " 'Shame on a nigga who try to run game on a nigga',\n",
       " 'Wu buck wild with the tri-BLOW!',\n",
       " '',\n",
       " '[Verse 3: Raekwon]',\n",
       " \"I react so thick, I'm phat, and yo\",\n",
       " \"Rae came blowin' and blew off your headphones, black\",\n",
       " 'Rap from, yo, Cali to Texas',\n",
       " \"Smoother than a Lexus, now's my turn to wreck this\",\n",
       " 'Brothers approach and half step',\n",
       " \"But ain't heard half of it yet and I bet you're not a fuckin' vet\",\n",
       " 'So, when you see me on the real',\n",
       " \"Formin' like Voltron, remember I got deep like a Navy Seal\",\n",
       " '',\n",
       " '[Hook: Dirty Bastard]',\n",
       " 'Shame on a nigga who try to run game on a nigga',\n",
       " 'Wu buck wild with the trigger',\n",
       " 'Shame on a nigga who try to run game on a nigga',\n",
       " \"I'll fuck your ass up!\",\n",
       " '',\n",
       " \"[Verse 4: Ol' Dirty Bastard]\",\n",
       " \"Yo! I come with that ol' loco style from my vocal\",\n",
       " \"Couldn't peep it with a pair of bifocals\",\n",
       " \"I'm no joker, play me as a joker\",\n",
       " 'Be on you like a house on fire, smoke ya',\n",
       " \"Crews be actin' like they gangs, anyway\",\n",
       " 'Be like, \"Warriors, come out and play!\"',\n",
       " 'Burn me, I get into shit, I let it out like diarrhea',\n",
       " 'Got burnt once but that was only gonorrhea',\n",
       " 'Dirty, I keep shit stains in my drawers',\n",
       " 'So I can get fizza-funky for ya',\n",
       " 'Murder, taste the flame of the Wu-Tang',\n",
       " 'Rah! Here comes the Tiger vs. Crane',\n",
       " \"I'll be like wild with my style\",\n",
       " 'Punk, you play me, chump, you get jumped',\n",
       " \"Wu is comin' through at a theater near you\",\n",
       " 'And get funk like a shoe, what?']"
      ]
     },
     "execution_count": 5,
     "metadata": {},
     "output_type": "execute_result"
    }
   ],
   "source": [
    "'''\n",
    "Get all albums we are going to use\n",
    "\n",
    "Filter by using the '[' to find artists\n",
    "Delete empty lines\n",
    "\n",
    "Count number of verses, lines, words\n",
    "'''\n",
    "b"
   ]
  }
 ],
 "metadata": {
  "kernelspec": {
   "display_name": "Python 3",
   "language": "python",
   "name": "python3"
  },
  "language_info": {
   "codemirror_mode": {
    "name": "ipython",
    "version": 3
   },
   "file_extension": ".py",
   "mimetype": "text/x-python",
   "name": "python",
   "nbconvert_exporter": "python",
   "pygments_lexer": "ipython3",
   "version": "3.6.4"
  }
 },
 "nbformat": 4,
 "nbformat_minor": 2
}
